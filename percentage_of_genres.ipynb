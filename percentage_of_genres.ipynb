{
  "nbformat": 4,
  "nbformat_minor": 0,
  "metadata": {
    "colab": {
      "name": "percentage of genres.ipynb",
      "provenance": [],
      "authorship_tag": "ABX9TyO/HcV3KlQdCZcmyoLSdiJW"
    },
    "kernelspec": {
      "name": "python3",
      "display_name": "Python 3"
    },
    "language_info": {
      "name": "python"
    }
  },
  "cells": [
    {
      "cell_type": "code",
      "source": [
        "from google.colab import files\n",
        "from PIL import Image\n",
        "\n",
        "uploaded = files.upload()"
      ],
      "metadata": {
        "colab": {
          "resources": {
            "http://localhost:8080/nbextensions/google.colab/files.js": {
              "data": "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",
              "ok": true,
              "headers": [
                [
                  "content-type",
                  "application/javascript"
                ]
              ],
              "status": 200,
              "status_text": ""
            }
          },
          "base_uri": "https://localhost:8080/",
          "height": 74
        },
        "id": "YlvDyAp-oK1A",
        "outputId": "28d3c609-a777-4ff3-9d95-4139a63d7fa5"
      },
      "execution_count": 1,
      "outputs": [
        {
          "output_type": "display_data",
          "data": {
            "text/plain": [
              "<IPython.core.display.HTML object>"
            ],
            "text/html": [
              "\n",
              "     <input type=\"file\" id=\"files-7cc0cb89-93ea-4cb8-b7bf-60adb57c09cc\" name=\"files[]\" multiple disabled\n",
              "        style=\"border:none\" />\n",
              "     <output id=\"result-7cc0cb89-93ea-4cb8-b7bf-60adb57c09cc\">\n",
              "      Upload widget is only available when the cell has been executed in the\n",
              "      current browser session. Please rerun this cell to enable.\n",
              "      </output>\n",
              "      <script src=\"/nbextensions/google.colab/files.js\"></script> "
            ]
          },
          "metadata": {}
        },
        {
          "output_type": "stream",
          "name": "stdout",
          "text": [
            "Saving imdb_top_1000.csv to imdb_top_1000.csv\n"
          ]
        }
      ]
    },
    {
      "cell_type": "code",
      "source": [
        "import pandas as pd \n",
        "df=pd.read_csv('imdb_top_1000.csv', encoding='utf8')\n",
        "df['Gross']=df['Gross'].str.replace(',','') #remove column\n",
        "df['Certificate']=df['Certificate'].str.replace('-','') #remove column\n",
        "df['Certificate']=df['Certificate'].str.replace('/','over') #remove column\n",
        "df = df.dropna(subset=[\"Gross\"]) #dropnNaN because was affecting conversion to int\n",
        "df['Gross'] = df['Gross'].astype(int) #convert to int\n",
        "df.sort_values([\"Released_Year\"], \n",
        "                    axis=0,\n",
        "                    ascending=[True], \n",
        "                    inplace=True)\n",
        "df.head()"
      ],
      "metadata": {
        "colab": {
          "base_uri": "https://localhost:8080/",
          "height": 250
        },
        "id": "nZelDtDIoUGk",
        "outputId": "13621f71-f2ec-4a13-ecc4-e8283c35ce07"
      },
      "execution_count": 17,
      "outputs": [
        {
          "output_type": "execute_result",
          "data": {
            "text/plain": [
              "                                           Poster_Link          Series_Title  \\\n",
              "127  https://m.media-amazon.com/images/M/MV5BZjhhMT...               The Kid   \n",
              "194  https://m.media-amazon.com/images/M/MV5BZWFhOG...          Sherlock Jr.   \n",
              "193  https://m.media-amazon.com/images/M/MV5BZjEyOT...         The Gold Rush   \n",
              "462  https://m.media-amazon.com/images/M/MV5BMTEyMT...  Bronenosets Potemkin   \n",
              "320  https://m.media-amazon.com/images/M/MV5BYmRiMD...           The General   \n",
              "\n",
              "    Released_Year Certificate Runtime                      Genre  IMDB_Rating  \\\n",
              "127          1921      Passed  68 min      Comedy, Drama, Family          8.3   \n",
              "194          1924      Passed  45 min    Action, Comedy, Romance          8.2   \n",
              "193          1925      Passed  95 min   Adventure, Comedy, Drama          8.2   \n",
              "462          1925         NaN  75 min   Drama, History, Thriller          8.0   \n",
              "320          1926      Passed  67 min  Action, Adventure, Comedy          8.1   \n",
              "\n",
              "                                              Overview  Meta_score  \\\n",
              "127  The Tramp cares for an abandoned child, but ev...         NaN   \n",
              "194  A film projectionist longs to be a detective, ...         NaN   \n",
              "193  A prospector goes to the Klondike in search of...         NaN   \n",
              "462  In the midst of the Russian Revolution of 1905...        97.0   \n",
              "320  When Union spies steal an engineer's beloved l...         NaN   \n",
              "\n",
              "                 Director              Star1             Star2  \\\n",
              "127       Charles Chaplin    Charles Chaplin    Edna Purviance   \n",
              "194         Buster Keaton      Buster Keaton   Kathryn McGuire   \n",
              "193       Charles Chaplin    Charles Chaplin        Mack Swain   \n",
              "462  Sergei M. Eisenstein  Aleksandr Antonov  Vladimir Barskiy   \n",
              "320        Clyde Bruckman      Buster Keaton     Buster Keaton   \n",
              "\n",
              "                    Star3           Star4  No_of_Votes    Gross  \n",
              "127         Jackie Coogan     Carl Miller       113314  5450000  \n",
              "194            Joe Keaton  Erwin Connelly        41985   977375  \n",
              "193            Tom Murray   Henry Bergman       101053  5450000  \n",
              "462  Grigoriy Aleksandrov     Ivan Bobrov        53054    50970  \n",
              "320           Marion Mack   Glen Cavender        81156  1033895  "
            ],
            "text/html": [
              "\n",
              "  <div id=\"df-b2e58e37-c6d8-42f8-8ff8-8f64fd53406a\">\n",
              "    <div class=\"colab-df-container\">\n",
              "      <div>\n",
              "<style scoped>\n",
              "    .dataframe tbody tr th:only-of-type {\n",
              "        vertical-align: middle;\n",
              "    }\n",
              "\n",
              "    .dataframe tbody tr th {\n",
              "        vertical-align: top;\n",
              "    }\n",
              "\n",
              "    .dataframe thead th {\n",
              "        text-align: right;\n",
              "    }\n",
              "</style>\n",
              "<table border=\"1\" class=\"dataframe\">\n",
              "  <thead>\n",
              "    <tr style=\"text-align: right;\">\n",
              "      <th></th>\n",
              "      <th>Poster_Link</th>\n",
              "      <th>Series_Title</th>\n",
              "      <th>Released_Year</th>\n",
              "      <th>Certificate</th>\n",
              "      <th>Runtime</th>\n",
              "      <th>Genre</th>\n",
              "      <th>IMDB_Rating</th>\n",
              "      <th>Overview</th>\n",
              "      <th>Meta_score</th>\n",
              "      <th>Director</th>\n",
              "      <th>Star1</th>\n",
              "      <th>Star2</th>\n",
              "      <th>Star3</th>\n",
              "      <th>Star4</th>\n",
              "      <th>No_of_Votes</th>\n",
              "      <th>Gross</th>\n",
              "    </tr>\n",
              "  </thead>\n",
              "  <tbody>\n",
              "    <tr>\n",
              "      <th>127</th>\n",
              "      <td>https://m.media-amazon.com/images/M/MV5BZjhhMT...</td>\n",
              "      <td>The Kid</td>\n",
              "      <td>1921</td>\n",
              "      <td>Passed</td>\n",
              "      <td>68 min</td>\n",
              "      <td>Comedy, Drama, Family</td>\n",
              "      <td>8.3</td>\n",
              "      <td>The Tramp cares for an abandoned child, but ev...</td>\n",
              "      <td>NaN</td>\n",
              "      <td>Charles Chaplin</td>\n",
              "      <td>Charles Chaplin</td>\n",
              "      <td>Edna Purviance</td>\n",
              "      <td>Jackie Coogan</td>\n",
              "      <td>Carl Miller</td>\n",
              "      <td>113314</td>\n",
              "      <td>5450000</td>\n",
              "    </tr>\n",
              "    <tr>\n",
              "      <th>194</th>\n",
              "      <td>https://m.media-amazon.com/images/M/MV5BZWFhOG...</td>\n",
              "      <td>Sherlock Jr.</td>\n",
              "      <td>1924</td>\n",
              "      <td>Passed</td>\n",
              "      <td>45 min</td>\n",
              "      <td>Action, Comedy, Romance</td>\n",
              "      <td>8.2</td>\n",
              "      <td>A film projectionist longs to be a detective, ...</td>\n",
              "      <td>NaN</td>\n",
              "      <td>Buster Keaton</td>\n",
              "      <td>Buster Keaton</td>\n",
              "      <td>Kathryn McGuire</td>\n",
              "      <td>Joe Keaton</td>\n",
              "      <td>Erwin Connelly</td>\n",
              "      <td>41985</td>\n",
              "      <td>977375</td>\n",
              "    </tr>\n",
              "    <tr>\n",
              "      <th>193</th>\n",
              "      <td>https://m.media-amazon.com/images/M/MV5BZjEyOT...</td>\n",
              "      <td>The Gold Rush</td>\n",
              "      <td>1925</td>\n",
              "      <td>Passed</td>\n",
              "      <td>95 min</td>\n",
              "      <td>Adventure, Comedy, Drama</td>\n",
              "      <td>8.2</td>\n",
              "      <td>A prospector goes to the Klondike in search of...</td>\n",
              "      <td>NaN</td>\n",
              "      <td>Charles Chaplin</td>\n",
              "      <td>Charles Chaplin</td>\n",
              "      <td>Mack Swain</td>\n",
              "      <td>Tom Murray</td>\n",
              "      <td>Henry Bergman</td>\n",
              "      <td>101053</td>\n",
              "      <td>5450000</td>\n",
              "    </tr>\n",
              "    <tr>\n",
              "      <th>462</th>\n",
              "      <td>https://m.media-amazon.com/images/M/MV5BMTEyMT...</td>\n",
              "      <td>Bronenosets Potemkin</td>\n",
              "      <td>1925</td>\n",
              "      <td>NaN</td>\n",
              "      <td>75 min</td>\n",
              "      <td>Drama, History, Thriller</td>\n",
              "      <td>8.0</td>\n",
              "      <td>In the midst of the Russian Revolution of 1905...</td>\n",
              "      <td>97.0</td>\n",
              "      <td>Sergei M. Eisenstein</td>\n",
              "      <td>Aleksandr Antonov</td>\n",
              "      <td>Vladimir Barskiy</td>\n",
              "      <td>Grigoriy Aleksandrov</td>\n",
              "      <td>Ivan Bobrov</td>\n",
              "      <td>53054</td>\n",
              "      <td>50970</td>\n",
              "    </tr>\n",
              "    <tr>\n",
              "      <th>320</th>\n",
              "      <td>https://m.media-amazon.com/images/M/MV5BYmRiMD...</td>\n",
              "      <td>The General</td>\n",
              "      <td>1926</td>\n",
              "      <td>Passed</td>\n",
              "      <td>67 min</td>\n",
              "      <td>Action, Adventure, Comedy</td>\n",
              "      <td>8.1</td>\n",
              "      <td>When Union spies steal an engineer's beloved l...</td>\n",
              "      <td>NaN</td>\n",
              "      <td>Clyde Bruckman</td>\n",
              "      <td>Buster Keaton</td>\n",
              "      <td>Buster Keaton</td>\n",
              "      <td>Marion Mack</td>\n",
              "      <td>Glen Cavender</td>\n",
              "      <td>81156</td>\n",
              "      <td>1033895</td>\n",
              "    </tr>\n",
              "  </tbody>\n",
              "</table>\n",
              "</div>\n",
              "      <button class=\"colab-df-convert\" onclick=\"convertToInteractive('df-b2e58e37-c6d8-42f8-8ff8-8f64fd53406a')\"\n",
              "              title=\"Convert this dataframe to an interactive table.\"\n",
              "              style=\"display:none;\">\n",
              "        \n",
              "  <svg xmlns=\"http://www.w3.org/2000/svg\" height=\"24px\"viewBox=\"0 0 24 24\"\n",
              "       width=\"24px\">\n",
              "    <path d=\"M0 0h24v24H0V0z\" fill=\"none\"/>\n",
              "    <path d=\"M18.56 5.44l.94 2.06.94-2.06 2.06-.94-2.06-.94-.94-2.06-.94 2.06-2.06.94zm-11 1L8.5 8.5l.94-2.06 2.06-.94-2.06-.94L8.5 2.5l-.94 2.06-2.06.94zm10 10l.94 2.06.94-2.06 2.06-.94-2.06-.94-.94-2.06-.94 2.06-2.06.94z\"/><path d=\"M17.41 7.96l-1.37-1.37c-.4-.4-.92-.59-1.43-.59-.52 0-1.04.2-1.43.59L10.3 9.45l-7.72 7.72c-.78.78-.78 2.05 0 2.83L4 21.41c.39.39.9.59 1.41.59.51 0 1.02-.2 1.41-.59l7.78-7.78 2.81-2.81c.8-.78.8-2.07 0-2.86zM5.41 20L4 18.59l7.72-7.72 1.47 1.35L5.41 20z\"/>\n",
              "  </svg>\n",
              "      </button>\n",
              "      \n",
              "  <style>\n",
              "    .colab-df-container {\n",
              "      display:flex;\n",
              "      flex-wrap:wrap;\n",
              "      gap: 12px;\n",
              "    }\n",
              "\n",
              "    .colab-df-convert {\n",
              "      background-color: #E8F0FE;\n",
              "      border: none;\n",
              "      border-radius: 50%;\n",
              "      cursor: pointer;\n",
              "      display: none;\n",
              "      fill: #1967D2;\n",
              "      height: 32px;\n",
              "      padding: 0 0 0 0;\n",
              "      width: 32px;\n",
              "    }\n",
              "\n",
              "    .colab-df-convert:hover {\n",
              "      background-color: #E2EBFA;\n",
              "      box-shadow: 0px 1px 2px rgba(60, 64, 67, 0.3), 0px 1px 3px 1px rgba(60, 64, 67, 0.15);\n",
              "      fill: #174EA6;\n",
              "    }\n",
              "\n",
              "    [theme=dark] .colab-df-convert {\n",
              "      background-color: #3B4455;\n",
              "      fill: #D2E3FC;\n",
              "    }\n",
              "\n",
              "    [theme=dark] .colab-df-convert:hover {\n",
              "      background-color: #434B5C;\n",
              "      box-shadow: 0px 1px 3px 1px rgba(0, 0, 0, 0.15);\n",
              "      filter: drop-shadow(0px 1px 2px rgba(0, 0, 0, 0.3));\n",
              "      fill: #FFFFFF;\n",
              "    }\n",
              "  </style>\n",
              "\n",
              "      <script>\n",
              "        const buttonEl =\n",
              "          document.querySelector('#df-b2e58e37-c6d8-42f8-8ff8-8f64fd53406a button.colab-df-convert');\n",
              "        buttonEl.style.display =\n",
              "          google.colab.kernel.accessAllowed ? 'block' : 'none';\n",
              "\n",
              "        async function convertToInteractive(key) {\n",
              "          const element = document.querySelector('#df-b2e58e37-c6d8-42f8-8ff8-8f64fd53406a');\n",
              "          const dataTable =\n",
              "            await google.colab.kernel.invokeFunction('convertToInteractive',\n",
              "                                                     [key], {});\n",
              "          if (!dataTable) return;\n",
              "\n",
              "          const docLinkHtml = 'Like what you see? Visit the ' +\n",
              "            '<a target=\"_blank\" href=https://colab.research.google.com/notebooks/data_table.ipynb>data table notebook</a>'\n",
              "            + ' to learn more about interactive tables.';\n",
              "          element.innerHTML = '';\n",
              "          dataTable['output_type'] = 'display_data';\n",
              "          await google.colab.output.renderOutput(dataTable, element);\n",
              "          const docLink = document.createElement('div');\n",
              "          docLink.innerHTML = docLinkHtml;\n",
              "          element.appendChild(docLink);\n",
              "        }\n",
              "      </script>\n",
              "    </div>\n",
              "  </div>\n",
              "  "
            ]
          },
          "metadata": {},
          "execution_count": 17
        }
      ]
    },
    {
      "cell_type": "code",
      "source": [
        "df1=df.groupby(\"Certificate\").size()\n",
        "df1.shape"
      ],
      "metadata": {
        "colab": {
          "base_uri": "https://localhost:8080/"
        },
        "id": "IB-asWBeoZUt",
        "outputId": "925ee580-b24d-4320-baa0-0a1a0bf6fb6f"
      },
      "execution_count": 18,
      "outputs": [
        {
          "output_type": "execute_result",
          "data": {
            "text/plain": [
              "(13,)"
            ]
          },
          "metadata": {},
          "execution_count": 18
        }
      ]
    },
    {
      "cell_type": "code",
      "source": [
        "df1.head(13)"
      ],
      "metadata": {
        "colab": {
          "base_uri": "https://localhost:8080/"
        },
        "id": "iE7n9bq_ogea",
        "outputId": "d2f5c3fd-902b-4509-a89c-951a6f2de9a9"
      },
      "execution_count": 19,
      "outputs": [
        {
          "output_type": "execute_result",
          "data": {
            "text/plain": [
              "Certificate\n",
              "A           180\n",
              "Approved      6\n",
              "G            10\n",
              "GP            2\n",
              "PG           24\n",
              "PG13         39\n",
              "Passed       23\n",
              "R           135\n",
              "TVPG          1\n",
              "U           200\n",
              "UA          163\n",
              "Unrated       1\n",
              "UoverA        1\n",
              "dtype: int64"
            ]
          },
          "metadata": {},
          "execution_count": 19
        }
      ]
    },
    {
      "cell_type": "code",
      "source": [
        "A=df[df['Certificate']==\"A\"]\n",
        "print(str(A.shape[0]/(df.shape[0])*100)+\"% of A\")\n",
        "A=A.shape[0]/df.shape[0]*100"
      ],
      "metadata": {
        "colab": {
          "base_uri": "https://localhost:8080/"
        },
        "id": "kd2H6aTZqRIq",
        "outputId": "cd28ea44-1e31-49b5-9dec-2f5cdeac03db"
      },
      "execution_count": 5,
      "outputs": [
        {
          "output_type": "stream",
          "name": "stdout",
          "text": [
            "21.660649819494584% of A\n"
          ]
        }
      ]
    },
    {
      "cell_type": "code",
      "source": [
        "Approved=df[df['Certificate']==\"Approved\"]\n",
        "print(str(Approved.shape[0]/(df.shape[0])*100)+\"% of Approved\")\n",
        "App=Approved.shape[0]/df.shape[0]*100"
      ],
      "metadata": {
        "colab": {
          "base_uri": "https://localhost:8080/"
        },
        "id": "arghdz1Sqc_z",
        "outputId": "f690ba80-f5a5-4d23-dfee-89d46c867713"
      },
      "execution_count": 6,
      "outputs": [
        {
          "output_type": "stream",
          "name": "stdout",
          "text": [
            "0.7220216606498195% of Approved\n"
          ]
        }
      ]
    },
    {
      "cell_type": "code",
      "source": [
        "G=df[df['Certificate']==\"G\"]\n",
        "print(str(G.shape[0]/(df.shape[0])*100)+\"% of G\")\n",
        "G=G.shape[0]/df.shape[0]*100"
      ],
      "metadata": {
        "colab": {
          "base_uri": "https://localhost:8080/"
        },
        "id": "AOxrOs0nqkaa",
        "outputId": "3cb3d138-7bb0-4627-ab6e-6cc1d434dfc6"
      },
      "execution_count": 7,
      "outputs": [
        {
          "output_type": "stream",
          "name": "stdout",
          "text": [
            "1.203369434416366% of G\n"
          ]
        }
      ]
    },
    {
      "cell_type": "code",
      "source": [
        "GP=df[df['Certificate']==\"GP\"]\n",
        "print(str(GP.shape[0]/(df.shape[0])*100)+\"% of GP\")\n",
        "GP=GP.shape[0]/df.shape[0]*100"
      ],
      "metadata": {
        "colab": {
          "base_uri": "https://localhost:8080/"
        },
        "id": "WEp_ergGqrRJ",
        "outputId": "af6bdcaa-1472-4a10-c533-4ecc7581750d"
      },
      "execution_count": 8,
      "outputs": [
        {
          "output_type": "stream",
          "name": "stdout",
          "text": [
            "0.24067388688327318% of GP\n"
          ]
        }
      ]
    },
    {
      "cell_type": "code",
      "source": [
        "PG=df[df['Certificate']==\"PG\"]\n",
        "print(str(PG.shape[0]/(df.shape[0])*100)+\"% of PG\")\n",
        "PG=PG.shape[0]/df.shape[0]*100"
      ],
      "metadata": {
        "colab": {
          "base_uri": "https://localhost:8080/"
        },
        "id": "PuHedWxUqzS5",
        "outputId": "8590a5d7-3658-4b41-b718-ff01438b6fac"
      },
      "execution_count": 10,
      "outputs": [
        {
          "output_type": "stream",
          "name": "stdout",
          "text": [
            "2.888086642599278% of PG\n"
          ]
        }
      ]
    },
    {
      "cell_type": "code",
      "source": [
        "PG13=df[df['Certificate']==\"PG13\"]\n",
        "print(str(PG13.shape[0]/(df.shape[0])*100)+\"% of PG-13\")\n",
        "PG13=PG13.shape[0]/df.shape[0]*100"
      ],
      "metadata": {
        "colab": {
          "base_uri": "https://localhost:8080/"
        },
        "id": "yFSjR7eDrE4M",
        "outputId": "48adff0e-8fac-4f12-9462-ecbc98897b02"
      },
      "execution_count": 21,
      "outputs": [
        {
          "output_type": "stream",
          "name": "stdout",
          "text": [
            "4.693140794223827% of PG-13\n"
          ]
        }
      ]
    },
    {
      "cell_type": "code",
      "source": [
        "Passed=df[df['Certificate']==\"Passed\"]\n",
        "print(str(Passed.shape[0]/(df.shape[0])*100)+\"% of Passed\")\n",
        "Passed=Passed.shape[0]/df.shape[0]*100"
      ],
      "metadata": {
        "colab": {
          "base_uri": "https://localhost:8080/"
        },
        "id": "V3t9mXj9sJwJ",
        "outputId": "2152a516-a2ed-4f92-a749-2e1e8b7348ee"
      },
      "execution_count": 22,
      "outputs": [
        {
          "output_type": "stream",
          "name": "stdout",
          "text": [
            "2.7677496991576414% of Passed\n"
          ]
        }
      ]
    },
    {
      "cell_type": "code",
      "source": [
        "R=df[df['Certificate']==\"R\"]\n",
        "print(str(R.shape[0]/(df.shape[0])*100)+\"% of R\")\n",
        "R=R.shape[0]/df.shape[0]*100"
      ],
      "metadata": {
        "colab": {
          "base_uri": "https://localhost:8080/"
        },
        "id": "WgubX0uzsOIq",
        "outputId": "b2c6b3d3-9032-4e07-c8ea-3552f9becc77"
      },
      "execution_count": 23,
      "outputs": [
        {
          "output_type": "stream",
          "name": "stdout",
          "text": [
            "16.24548736462094% of R\n"
          ]
        }
      ]
    },
    {
      "cell_type": "code",
      "source": [
        "TVPG=df[df['Certificate']==\"TVPG\"]\n",
        "print(str(TVPG.shape[0]/(df.shape[0])*100)+\"% of TV-PG\")\n",
        "TVPG=TVPG.shape[0]/df.shape[0]*100"
      ],
      "metadata": {
        "colab": {
          "base_uri": "https://localhost:8080/"
        },
        "id": "l0jjXqnEsPLH",
        "outputId": "e2b3c1ab-8464-44bb-80bc-6ebec3e3b549"
      },
      "execution_count": 24,
      "outputs": [
        {
          "output_type": "stream",
          "name": "stdout",
          "text": [
            "0.12033694344163659% of TV-PG\n"
          ]
        }
      ]
    },
    {
      "cell_type": "code",
      "source": [
        "U=df[df['Certificate']==\"U\"]\n",
        "print(str(U.shape[0]/(df.shape[0])*100)+\"% of U\")\n",
        "U=U.shape[0]/df.shape[0]*100"
      ],
      "metadata": {
        "colab": {
          "base_uri": "https://localhost:8080/"
        },
        "id": "K6M3jVLOsP2L",
        "outputId": "3aec6749-c7b6-473a-9cb4-e0d8cde9a764"
      },
      "execution_count": 25,
      "outputs": [
        {
          "output_type": "stream",
          "name": "stdout",
          "text": [
            "24.067388688327316% of U\n"
          ]
        }
      ]
    },
    {
      "cell_type": "code",
      "source": [
        "UA=df[df['Certificate']==\"UA\"]\n",
        "print(str(UA.shape[0]/(df.shape[0])*100)+\"% of UA\")\n",
        "UA=UA.shape[0]/df.shape[0]*100"
      ],
      "metadata": {
        "colab": {
          "base_uri": "https://localhost:8080/"
        },
        "id": "ZlRtIU2QsRaX",
        "outputId": "9a7ad6d8-40b6-40a3-9890-750f85b715e4"
      },
      "execution_count": 26,
      "outputs": [
        {
          "output_type": "stream",
          "name": "stdout",
          "text": [
            "19.614921780986762% of UA\n"
          ]
        }
      ]
    },
    {
      "cell_type": "code",
      "source": [
        "Unrated=df[df['Certificate']==\"Unrated\"]\n",
        "print(str(Unrated.shape[0]/(df.shape[0])*100)+\"% of Unrated\")\n",
        "Unrated=Unrated.shape[0]/df.shape[0]*100"
      ],
      "metadata": {
        "colab": {
          "base_uri": "https://localhost:8080/"
        },
        "id": "S874aDDCsRBn",
        "outputId": "81a64213-7f78-464a-d22a-a574352c5b95"
      },
      "execution_count": 27,
      "outputs": [
        {
          "output_type": "stream",
          "name": "stdout",
          "text": [
            "0.12033694344163659% of Unrated\n"
          ]
        }
      ]
    },
    {
      "cell_type": "code",
      "source": [
        "UoverA=df[df['Certificate']==\"UoverA\"]\n",
        "print(str(UoverA.shape[0]/(df.shape[0])*100)+\"% of U/A\")\n",
        "UoverA=UoverA.shape[0]/df.shape[0]*100"
      ],
      "metadata": {
        "colab": {
          "base_uri": "https://localhost:8080/"
        },
        "id": "ayhq0a-DsQfT",
        "outputId": "9d43205e-1ed4-4c29-92c9-88b88788f3ba"
      },
      "execution_count": 28,
      "outputs": [
        {
          "output_type": "stream",
          "name": "stdout",
          "text": [
            "0.12033694344163659% of U/A\n"
          ]
        }
      ]
    },
    {
      "cell_type": "code",
      "source": [
        "import matplotlib.pyplot as plt"
      ],
      "metadata": {
        "id": "idNaPanztz1z"
      },
      "execution_count": 29,
      "outputs": []
    },
    {
      "cell_type": "code",
      "source": [
        "import matplotlib.pyplot as plt\n",
        "Certificateno=[180,6,10, 2, 24, 39, 23, 135, 1, 200, 163, 1, 1]\n",
        "Certificate=[\"A\", \"Approved\",\"G\",\"GP\",\"PG\", \"PG-13\", \"Passed\", \"R\", \"TV-PG\", \"U\", \"UA\", \"Unrated\", \"U/A\"]\n",
        "plt.axis(\"equal\")\n",
        "plt.pie(Certificateno,labels=Certificate,explode=[0,0,0,0,0,0,0,0,0,0.2,0,0,0],autopct=\"%1.2f%%\",radius = 5.5)\n",
        "plt.show()"
      ],
      "metadata": {
        "colab": {
          "base_uri": "https://localhost:8080/",
          "height": 1000
        },
        "id": "Jmq81PxQzFMf",
        "outputId": "7bb93f1b-ad81-4c93-8d92-0b0afc03db2e"
      },
      "execution_count": 54,
      "outputs": [
        {
          "output_type": "display_data",
          "data": {
            "text/plain": [
              "<Figure size 432x288 with 1 Axes>"
            ],
            "image/png": "[encoded data removed]"
          },
          "metadata": {}
        }
      ]
    }
  ]
}